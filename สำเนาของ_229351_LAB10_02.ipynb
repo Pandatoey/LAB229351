{
  "cells": [
    {
      "cell_type": "markdown",
      "metadata": {
        "id": "view-in-github",
        "colab_type": "text"
      },
      "source": [
        "<a href=\"https://colab.research.google.com/github/Pandatoey/LAB229351/blob/main/%E0%B8%AA%E0%B8%B3%E0%B9%80%E0%B8%99%E0%B8%B2%E0%B8%82%E0%B8%AD%E0%B8%87_229351_LAB10_02.ipynb\" target=\"_parent\"><img src=\"https://colab.research.google.com/assets/colab-badge.svg\" alt=\"Open In Colab\"/></a>"
      ]
    },
    {
      "cell_type": "markdown",
      "metadata": {
        "id": "rUWDxJYaXbGS"
      },
      "source": [
        "### ปฏิบัติการครั้งที่ 8\n",
        "\n",
        "ดาวน์โหลดข้อมูลอุณหภูมิสูงสุดรายวันปี 1998-2019 จาก link ข้างล่างนี้  \n",
        "https://donlapark.pages.dev/229351/data/CM_temp.csv\n",
        "\n",
        "1. เปลี่ยนจากข้อมูลรายวันให้เป็นข้อมูลค่าเฉลี่ยรายเดือน\n",
        "2. จงแบ่งข้อมูลโดยให้ Test set เป็นข้อมูลของ 24 เดือนสุดท้ายและ Training set เป็นข้อมูลก่อนหน้าทั้งหมด\n",
        "3. ลองสร้างโมเดล Holt-Winters แบบต่างๆ (damped, non-damped, additive, multiplicative etc.) แล้วระบุโมเดลที่ดีที่ให้ค่า RMSE บน test set น้อยที่สุด\n",
        "4. จงแสดงแผนภาพของข้อมูลจริงกับข้อมูลที่ได้ในข้อ 3"
      ]
    },
    {
      "cell_type": "code",
      "execution_count": 6,
      "metadata": {
        "id": "ntO6KNB7A24q",
        "colab": {
          "base_uri": "https://localhost:8080/"
        },
        "outputId": "c18e7eff-685d-4c05-87c3-5749a48618cb"
      },
      "outputs": [
        {
          "output_type": "stream",
          "name": "stdout",
          "text": [
            "--2025-09-17 15:23:40--  https://donlapark.pages.dev/229351/data/CM_temp.csv\n",
            "Resolving donlapark.pages.dev (donlapark.pages.dev)... 172.66.44.200, 172.66.47.56, 2606:4700:310c::ac42:2f38, ...\n",
            "Connecting to donlapark.pages.dev (donlapark.pages.dev)|172.66.44.200|:443... connected.\n",
            "HTTP request sent, awaiting response... 200 OK\n",
            "Length: 139473 (136K) [text/csv]\n",
            "Saving to: ‘CM_temp.csv’\n",
            "\n",
            "\rCM_temp.csv           0%[                    ]       0  --.-KB/s               \rCM_temp.csv         100%[===================>] 136.20K  --.-KB/s    in 0.02s   \n",
            "\n",
            "2025-09-17 15:23:40 (6.76 MB/s) - ‘CM_temp.csv’ saved [139473/139473]\n",
            "\n"
          ]
        }
      ],
      "source": [
        "!wget -O CM_temp.csv https://donlapark.pages.dev/229351/data/CM_temp.csv"
      ]
    },
    {
      "cell_type": "code",
      "execution_count": 7,
      "metadata": {
        "id": "5Tebr3-dBKxj"
      },
      "outputs": [],
      "source": [
        "# import module ที่ต้องใช้\n",
        "import numpy as np\n",
        "import pandas as pd\n",
        "import matplotlib.pyplot as plt\n",
        "from statsmodels.tsa.holtwinters import ExponentialSmoothing\n",
        "from datetime import datetime"
      ]
    },
    {
      "cell_type": "code",
      "execution_count": 9,
      "metadata": {
        "id": "gG3PB_P7yZBH",
        "colab": {
          "base_uri": "https://localhost:8080/"
        },
        "outputId": "b8d11931-baab-4999-a74a-c0532a14dd3a"
      },
      "outputs": [
        {
          "output_type": "stream",
          "name": "stdout",
          "text": [
            "            MaxTemp\n",
            "Date               \n",
            "2019-07-27     26.2\n",
            "2019-07-28     34.2\n",
            "2019-07-29     34.4\n",
            "2019-07-30     33.5\n",
            "2019-07-31     30.7\n"
          ]
        },
        {
          "output_type": "stream",
          "name": "stderr",
          "text": [
            "/tmp/ipython-input-1948879571.py:8: FutureWarning: The argument 'date_parser' is deprecated and will be removed in a future version. Please use 'date_format' instead, or read your data in as 'object' dtype and then call 'to_datetime'.\n",
            "  data = pd.read_csv('CM_temp.csv', parse_dates=['Date'],\n"
          ]
        }
      ],
      "source": [
        "#1\n",
        "# ฟังก์ชันที่เปลี่ยน string ให้เป็น datetime\n",
        "def parser(dates):\n",
        "  return datetime.strptime(dates, '%Y-%m-%d')\n",
        "\n",
        "# parse_dates ชื่อของคอลัมน์ที่จะเปลี่ยนให้เป็น datetime\n",
        "# index_col ชื่อของคอลัมน์ที่จะให้เป็น index\n",
        "# date_parser ฟังก์ชันที่เปลี่ยน string ให้เป็น datetime\n",
        "data = pd.read_csv('CM_temp.csv', parse_dates=['Date'],\n",
        "                                        index_col='Date',\n",
        "                                        date_parser=parser)\n",
        "\n",
        "print (data.tail())"
      ]
    },
    {
      "cell_type": "markdown",
      "metadata": {
        "id": "7Mow9q7kyZni"
      },
      "source": [
        "ข้อมูลที่ได้เป็นข้อมูลรายวัน ทำการหาค่าเฉลี่ยรายเดือนด้วย method `resample`"
      ]
    },
    {
      "cell_type": "code",
      "execution_count": 11,
      "metadata": {
        "id": "2SAbpyMIz7R8",
        "colab": {
          "base_uri": "https://localhost:8080/",
          "height": 272
        },
        "outputId": "dc34849c-cc2f-4f43-bae7-209d4da849ca"
      },
      "outputs": [
        {
          "output_type": "execute_result",
          "data": {
            "text/plain": [
              "Date\n",
              "1998-01-31    31.687097\n",
              "1998-02-28    33.685714\n",
              "1998-03-31    37.103226\n",
              "1998-04-30    37.910000\n",
              "1998-05-31    35.848387\n",
              "Freq: ME, Name: MaxTemp, dtype: float64"
            ],
            "text/html": [
              "<div>\n",
              "<style scoped>\n",
              "    .dataframe tbody tr th:only-of-type {\n",
              "        vertical-align: middle;\n",
              "    }\n",
              "\n",
              "    .dataframe tbody tr th {\n",
              "        vertical-align: top;\n",
              "    }\n",
              "\n",
              "    .dataframe thead th {\n",
              "        text-align: right;\n",
              "    }\n",
              "</style>\n",
              "<table border=\"1\" class=\"dataframe\">\n",
              "  <thead>\n",
              "    <tr style=\"text-align: right;\">\n",
              "      <th></th>\n",
              "      <th>MaxTemp</th>\n",
              "    </tr>\n",
              "    <tr>\n",
              "      <th>Date</th>\n",
              "      <th></th>\n",
              "    </tr>\n",
              "  </thead>\n",
              "  <tbody>\n",
              "    <tr>\n",
              "      <th>1998-01-31</th>\n",
              "      <td>31.687097</td>\n",
              "    </tr>\n",
              "    <tr>\n",
              "      <th>1998-02-28</th>\n",
              "      <td>33.685714</td>\n",
              "    </tr>\n",
              "    <tr>\n",
              "      <th>1998-03-31</th>\n",
              "      <td>37.103226</td>\n",
              "    </tr>\n",
              "    <tr>\n",
              "      <th>1998-04-30</th>\n",
              "      <td>37.910000</td>\n",
              "    </tr>\n",
              "    <tr>\n",
              "      <th>1998-05-31</th>\n",
              "      <td>35.848387</td>\n",
              "    </tr>\n",
              "  </tbody>\n",
              "</table>\n",
              "</div><br><label><b>dtype:</b> float64</label>"
            ]
          },
          "metadata": {},
          "execution_count": 11
        }
      ],
      "source": [
        "data_monthly = data['MaxTemp'].resample(\"ME\").mean()\n",
        "\n",
        "data_monthly.head()"
      ]
    },
    {
      "cell_type": "code",
      "source": [
        "train = data_monthly.iloc[:-24]\n",
        "test  = data_monthly.iloc[-24:]"
      ],
      "metadata": {
        "id": "mieR-VvzVBn2"
      },
      "execution_count": 12,
      "outputs": []
    },
    {
      "cell_type": "code",
      "execution_count": 13,
      "metadata": {
        "id": "2Pw4z4ueEYwp"
      },
      "outputs": [],
      "source": [
        "def rmse(y_true,y_pred):\n",
        "  # Inputs\n",
        "  # y_true: actual value, y_pred: predicted values\n",
        "  # Output: RMSE between y_true and y_pred\n",
        "  return np.sqrt(np.mean(np.square(y_true-y_pred)))"
      ]
    },
    {
      "cell_type": "code",
      "source": [
        "rmse_1 = rmse(y_true,y_pred)"
      ],
      "metadata": {
        "colab": {
          "base_uri": "https://localhost:8080/",
          "height": 141
        },
        "id": "sx_YN83TVbRk",
        "outputId": "376a6d2d-b1fb-4651-b617-b9497a36737c"
      },
      "execution_count": 16,
      "outputs": [
        {
          "output_type": "error",
          "ename": "NameError",
          "evalue": "name 'y_true' is not defined",
          "traceback": [
            "\u001b[0;31m---------------------------------------------------------------------------\u001b[0m",
            "\u001b[0;31mNameError\u001b[0m                                 Traceback (most recent call last)",
            "\u001b[0;32m/tmp/ipython-input-3142423365.py\u001b[0m in \u001b[0;36m<cell line: 0>\u001b[0;34m()\u001b[0m\n\u001b[0;32m----> 1\u001b[0;31m \u001b[0mrmse_1\u001b[0m \u001b[0;34m=\u001b[0m \u001b[0mrmse\u001b[0m\u001b[0;34m(\u001b[0m\u001b[0my_true\u001b[0m\u001b[0;34m,\u001b[0m\u001b[0my_pred\u001b[0m\u001b[0;34m)\u001b[0m\u001b[0;34m\u001b[0m\u001b[0;34m\u001b[0m\u001b[0m\n\u001b[0m",
            "\u001b[0;31mNameError\u001b[0m: name 'y_true' is not defined"
          ]
        }
      ]
    },
    {
      "cell_type": "code",
      "execution_count": 15,
      "metadata": {
        "id": "d-JpJ1qibCYN"
      },
      "outputs": [],
      "source": [
        "models = {}\n",
        "\n",
        "# additive, no damped\n",
        "models['additive'] = ExponentialSmoothing(\n",
        "    train, trend='add', seasonal='add', seasonal_periods=12).fit()"
      ]
    }
  ],
  "metadata": {
    "colab": {
      "provenance": [],
      "include_colab_link": true
    },
    "kernelspec": {
      "display_name": "Python 3 (ipykernel)",
      "language": "python",
      "name": "python3"
    },
    "language_info": {
      "codemirror_mode": {
        "name": "ipython",
        "version": 3
      },
      "file_extension": ".py",
      "mimetype": "text/x-python",
      "name": "python",
      "nbconvert_exporter": "python",
      "pygments_lexer": "ipython3",
      "version": "3.10.12"
    }
  },
  "nbformat": 4,
  "nbformat_minor": 0
}